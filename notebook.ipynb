{
 "cells": [
  {
   "cell_type": "markdown",
   "metadata": {},
   "source": [
    "This notebook is the line-by-line pre-processing module for Annie's 2024 BDP DREAM project."
   ]
  },
  {
   "cell_type": "code",
   "execution_count": 7,
   "metadata": {
    "vscode": {
     "languageId": "shellscript"
    }
   },
   "outputs": [
    {
     "name": "stdout",
     "output_type": "stream",
     "text": [
      "Processing with the following reference arguments:\n",
      "Reference 1: GFF = sample_inputs/GRCh38.gff\tFNA = sample_inputs/GRCh38.fna\tVDJ = Discard\trDNA = Discard\tchrY = Discard\n",
      "Reference 2: GFF = sample_inputs/CHM13.gff\tFNA = sample_inputs/CHM13.fna\tVDJ = None\trDNA = None\tchrY = Extract\n",
      "Mapfile: sample_inputs/multi_chroms.csv\n",
      "[Info]: sample_inputs/GRCh38_canonical.gff exists, moving on...\n",
      "[Info]: sample_inputs/CHM13_canonical.gff exists, moving on...\n",
      "[Info]: sample_inputs/GRCh38_canonical.fna exists, moving on...\n",
      "[Info]: sample_inputs/CHM13_canonical.fna exists, moving on...\n",
      "[Info]: sample_inputs/GRCh38_canonical_discarded.gff exists, moving on...\n",
      "[Info]: sample_inputs/GRCh38_canonical_discarded.gff exists, moving on...\n",
      "Finished processing the reference annotatons.\n",
      "Output reference annotation 1: sample_inputs/GRCh38_canonical_discarded.gff\n",
      "Output reference annotation 2: sample_inputs/CHM13_canonical_discarded.gff\n",
      "Mapfile: sample_inputs/multi_chroms.csv\n",
      "Processing reference genomes:\n",
      "Removal completed.\n",
      "Extraction completed.\n",
      "Finished processing the reference genomes.\n",
      "Output reference genome 1: sample_inputs/GRCh38_canonical.no_chrY.fna\n",
      "Output reference genome 2: sample_inputs/CHM13_canonical.only_chrY.fna\n",
      "Merging processing the references genomes.\n",
      "Sample liftoff command:\n",
      "time liftoff -p 24 -g final.gff -o out_dir/out.gff -dir out_dir/ -u out_dir/unmapped_features.txt -chroms chroms.txt -polish -exclude_partial -copies -sc 0.95 target.fa final.fna\n"
     ]
    }
   ],
   "source": [
    "%%bash\n",
    "# preprocess reference gff and fna\n",
    "python3 refmerge.py --ref1_gff sample_inputs/GRCh38.gff --ref1_fna sample_inputs/GRCh38.fna --ref2_gff sample_inputs/CHM13.gff --ref2_fna sample_inputs/CHM13.fna --mapfile  sample_inputs/multi_chroms.csv\n",
    "# main outputs (multiple intermediate ones)\n",
    "# sample_inputs/final.fna\n",
    "# sample_inputs/final.gff"
   ]
  },
  {
   "cell_type": "code",
   "execution_count": 8,
   "metadata": {
    "vscode": {
     "languageId": "shellscript"
    }
   },
   "outputs": [
    {
     "name": "stderr",
     "output_type": "stream",
     "text": [
      "processed gff entries: 100%|██████████| 4734657/4734657 [00:02<00:00, 1617127.10it/s]\n"
     ]
    },
    {
     "name": "stdout",
     "output_type": "stream",
     "text": [
      "753 rDNA entries in total.\n"
     ]
    },
    {
     "name": "stderr",
     "output_type": "stream",
     "text": [
      "Adding fake root: 100%|██████████| 6/6 [00:00<00:00, 9962.72it/s]\n"
     ]
    },
    {
     "name": "stdout",
     "output_type": "stream",
     "text": [
      "Added 206 roots for acrocentric rDNAs.\n"
     ]
    },
    {
     "name": "stderr",
     "output_type": "stream",
     "text": [
      "Write roots to file: 100%|██████████| 206/206 [00:00<00:00, 3401679.62it/s]\n",
      "Write gene-level features to file: 100%|██████████| 6/6 [00:00<00:00, 46091.25it/s]\n",
      "Write rDNAs to file: 100%|██████████| 753/753 [00:00<00:00, 2332578.22it/s]\n"
     ]
    }
   ],
   "source": [
    "%%bash\n",
    "# extract rDNA arrays from chm13\n",
    "python3 rRNA_extract.py sample_inputs/CHM13_canonical.gff sample_inputs/rRNA_only.with_root.gff"
   ]
  },
  {
   "cell_type": "code",
   "execution_count": 10,
   "metadata": {
    "vscode": {
     "languageId": "shellscript"
    }
   },
   "outputs": [
    {
     "name": "stderr",
     "output_type": "stream",
     "text": [
      "Processed fna entries: 100%|██████████| 39068079/39068079 [00:16<00:00, 2397142.58it/s]\n"
     ]
    },
    {
     "name": "stdout",
     "output_type": "stream",
     "text": [
      "[Info]: Successfully canonicalized 25 entries.\n",
      "Canonicalized target file in ['sample_inputs/Ash1_canonical.fna']\n"
     ]
    }
   ],
   "source": [
    "%%bash\n",
    "# canonicalize Ash1 (one time)\n",
    "python3 tgtalt.py --tgt_fna sample_inputs/Ash1.fna --chroms  sample_inputs/chroms.csv"
   ]
  },
  {
   "cell_type": "code",
   "execution_count": 14,
   "metadata": {
    "vscode": {
     "languageId": "shellscript"
    }
   },
   "outputs": [],
   "source": [
    "%%bash\n",
    "# masked Ash1 VDJ regions\n",
    "source /ccb/sw/global.bashrc\n",
    "bedtools maskfasta -fi sample_inputs/Ash1_canonical.fna -bed sample_inputs/VDJ_coords.bed -fo sample_inputs/Ash1.fna_VDJ_masked.fna"
   ]
  },
  {
   "cell_type": "code",
   "execution_count": null,
   "metadata": {
    "vscode": {
     "languageId": "shellscript"
    }
   },
   "outputs": [],
   "source": [
    "# extract only chr1, chr13, chr14, chr15, chr21, chr22 from Ash1\n",
    "%%bash\n",
    "perl extract_rDNA_fna.pl sample_inputs/Ash1.fna_VDJ_masked.fna > sample_inputs/Ash1.for_pass1.fna"
   ]
  },
  {
   "cell_type": "code",
   "execution_count": 7,
   "metadata": {
    "vscode": {
     "languageId": "shellscript"
    }
   },
   "outputs": [
    {
     "name": "stdout",
     "output_type": "stream",
     "text": [
      "extracting features\n"
     ]
    },
    {
     "name": "stderr",
     "output_type": "stream",
     "text": [
      "2024-10-22 20:08:17,910 - INFO - Populating features\n",
      "2024-10-22 20:08:17,983 - INFO - Populating features table and first-order relations: 1711 features\n",
      "2024-10-22 20:08:17,983 - INFO - Updating relations\n",
      "2024-10-22 20:08:17,997 - INFO - Creating relations(parent) index\n",
      "2024-10-22 20:08:17,998 - INFO - Creating relations(child) index\n",
      "2024-10-22 20:08:17,998 - INFO - Creating features(featuretype) index\n",
      "2024-10-22 20:08:17,999 - INFO - Creating features (seqid, start, end) index\n",
      "2024-10-22 20:08:17,999 - INFO - Creating features (seqid, start, end, strand) index\n",
      "2024-10-22 20:08:18,000 - INFO - Running ANALYZE features\n"
     ]
    },
    {
     "name": "stdout",
     "output_type": "stream",
     "text": [
      "aligning features\n"
     ]
    },
    {
     "name": "stderr",
     "output_type": "stream",
     "text": [
      "[M::main::0.115*0.89] loaded/built the index for 1 target sequence(s)\n",
      "[M::mm_mapopt_update::0.140*0.91] mid_occ = 1506\n",
      "[M::mm_idx_stat] kmer size: 15; skip: 10; is_hpc: 0; #seq: 1\n",
      "[M::mm_idx_stat::0.156*0.92] distinct minimizers: 1094731 (74.20% are singletons); average occurrences: 2.719; average spacing: 34.019; total length: 101252837\n",
      "[M::main::0.269*0.95] loaded/built the index for 1 target sequence(s)\n",
      "[M::main::0.270*0.95] loaded/built the index for 1 target sequence(s)\n",
      "[M::mm_mapopt_update::0.349*0.96] mid_occ = 433\n",
      "[M::mm_idx_stat] kmer size: 15; skip: 10; is_hpc: 0; #seq: 1\n",
      "[M::mm_mapopt_update::0.354*0.96] mid_occ = 194\n",
      "[M::mm_idx_stat] kmer size: 15; skip: 10; is_hpc: 0; #seq: 1\n",
      "[M::worker_pipeline::0.384*2.59] mapped 18 sequences\n",
      "[M::main] Version: 2.28-r1209\n",
      "[M::main] CMD: minimap2 -o intermediate_files/chr14_to_chr14.sam -a --end-bonus 5 --eqx -N 50 -p 0.5 -t 4 intermediate_files/chr14.fa.mmi intermediate_files/chr14_genes.fa\n",
      "[M::main] Real time: 0.395 sec; CPU: 1.005 sec; Peak RSS: 0.113 GB\n",
      "[M::mm_idx_stat::0.403*0.97] distinct minimizers: 5255320 (85.97% are singletons); average occurrences: 1.806; average spacing: 5.423; total length: 51454416\n",
      "[M::mm_idx_stat::0.406*0.97] distinct minimizers: 5560210 (87.61% are singletons); average occurrences: 1.521; average spacing: 5.309; total length: 44899981\n",
      "[M::main::0.545*0.97] loaded/built the index for 1 target sequence(s)\n",
      "[M::mm_mapopt_update::0.717*0.98] mid_occ = 273\n",
      "[M::mm_idx_stat] kmer size: 15; skip: 10; is_hpc: 0; #seq: 1\n",
      "[M::worker_pipeline::0.762*2.23] mapped 25 sequences\n",
      "[M::main] Version: 2.28-r1209\n",
      "[M::main] CMD: minimap2 -o intermediate_files/chr22_to_chr22.sam -a --end-bonus 5 --eqx -N 50 -p 0.5 -t 4 intermediate_files/chr22.fa.mmi intermediate_files/chr22_genes.fa\n",
      "[M::main] Real time: 0.773 sec; CPU: 1.709 sec; Peak RSS: 0.212 GB\n",
      "[M::main::0.777*0.98] loaded/built the index for 1 target sequence(s)\n",
      "[M::mm_idx_stat::0.821*0.98] distinct minimizers: 10851418 (82.58% are singletons); average occurrences: 1.737; average spacing: 5.309; total length: 100063229\n",
      "[M::mm_mapopt_update::0.994*0.98] mid_occ = 226\n",
      "[M::mm_idx_stat] kmer size: 15; skip: 10; is_hpc: 0; #seq: 1\n",
      "[M::mm_idx_stat::1.135*0.99] distinct minimizers: 12850433 (81.22% are singletons); average occurrences: 1.665; average spacing: 5.321; total length: 113854012\n",
      "[M::main::1.261*0.99] loaded/built the index for 1 target sequence(s)\n",
      "[M::mm_mapopt_update::1.649*0.99] mid_occ = 238\n",
      "[M::mm_idx_stat] kmer size: 15; skip: 10; is_hpc: 0; #seq: 1\n",
      "[M::mm_idx_stat::1.863*0.99] distinct minimizers: 24260256 (73.23% are singletons); average occurrences: 1.943; average spacing: 5.303; total length: 249932541\n",
      "[M::worker_pipeline::1.918*1.07] mapped 107 sequences\n",
      "[M::main] Version: 2.28-r1209\n",
      "[M::main] CMD: minimap2 -o intermediate_files/chr1_to_chr1.sam -a --end-bonus 5 --eqx -N 50 -p 0.5 -t 4 intermediate_files/chr1.fa.mmi intermediate_files/chr1_genes.fa\n",
      "[M::main] Real time: 1.939 sec; CPU: 2.075 sec; Peak RSS: 0.940 GB\n",
      "[M::worker_pipeline::2.645*2.98] mapped 53 sequences\n",
      "[M::main] Version: 2.28-r1209\n",
      "[M::main] CMD: minimap2 -o intermediate_files/chr15_to_chr15.sam -a --end-bonus 5 --eqx -N 50 -p 0.5 -t 4 intermediate_files/chr15.fa.mmi intermediate_files/chr15_genes.fa\n",
      "[M::main] Real time: 2.679 sec; CPU: 7.926 sec; Peak RSS: 0.419 GB\n",
      "[M::worker_pipeline::2.743*3.49] mapped 61 sequences\n",
      "[M::main] Version: 2.28-r1209\n",
      "[M::main] CMD: minimap2 -o intermediate_files/chr21_to_chr21.sam -a --end-bonus 5 --eqx -N 50 -p 0.5 -t 4 intermediate_files/chr21.fa.mmi intermediate_files/chr21_genes.fa\n",
      "[M::main] Real time: 2.782 sec; CPU: 9.606 sec; Peak RSS: 0.227 GB\n",
      "[M::worker_pipeline::4.752*3.20] mapped 77 sequences\n",
      "[M::main] Version: 2.28-r1209\n",
      "[M::main] CMD: minimap2 -o intermediate_files/chr13_to_chr13.sam -a --end-bonus 5 --eqx -N 50 -p 0.5 -t 4 intermediate_files/chr13.fa.mmi intermediate_files/chr13_genes.fa\n",
      "[M::main] Real time: 4.799 sec; CPU: 15.244 sec; Peak RSS: 0.562 GB\n"
     ]
    },
    {
     "name": "stdout",
     "output_type": "stream",
     "text": [
      "lifting features\n",
      "mapping unaligned features to whole genome\n",
      "aligning features\n"
     ]
    },
    {
     "name": "stderr",
     "output_type": "stream",
     "text": [
      "[M::main::2.065*1.00] loaded/built the index for 6 target sequence(s)\n",
      "[M::mm_mapopt_update::2.730*1.00] mid_occ = 416\n",
      "[M::mm_idx_stat] kmer size: 15; skip: 10; is_hpc: 0; #seq: 6\n",
      "[M::mm_idx_stat::3.206*1.00] distinct minimizers: 41080836 (61.82% are singletons); average occurrences: 2.636; average spacing: 6.108; total length: 661457016\n",
      "[M::worker_pipeline::3.707*3.72] mapped 24 sequences\n",
      "[M::main] Version: 2.28-r1209\n",
      "[M::main] CMD: minimap2 -o intermediate_files/unmapped_to_expected_chrom_to_target_all.sam -a --end-bonus 5 --eqx -N 50 -p 0.5 -t 24 sample_inputs/Ash1.for_pass1.fna.mmi intermediate_files/unmapped_to_expected_chrom_genes.fa\n",
      "[M::main] Real time: 3.739 sec; CPU: 13.820 sec; Peak RSS: 2.537 GB\n"
     ]
    },
    {
     "name": "stdout",
     "output_type": "stream",
     "text": [
      "lifting features\n",
      "mapping gene copies\n",
      "aligning features\n"
     ]
    },
    {
     "name": "stderr",
     "output_type": "stream",
     "text": [
      "[M::main::2.063*1.00] loaded/built the index for 6 target sequence(s)\n",
      "[M::mm_mapopt_update::2.728*1.00] mid_occ = 416\n",
      "[M::mm_idx_stat] kmer size: 15; skip: 10; is_hpc: 0; #seq: 6\n",
      "[M::mm_idx_stat::3.201*1.00] distinct minimizers: 41080836 (61.82% are singletons); average occurrences: 2.636; average spacing: 6.108; total length: 661457016\n",
      "[M::worker_pipeline::7.148*12.89] mapped 341 sequences\n",
      "[M::main] Version: 2.28-r1209\n",
      "[M::main] CMD: minimap2 -o intermediate_files/reference_all_to_target_all.sam -a --end-bonus 5 --eqx -N 50 -p 0.5 -t 24 sample_inputs/Ash1.for_pass1.fna.mmi intermediate_files/reference_all_genes.fa\n",
      "[M::main] Real time: 7.181 sec; CPU: 92.191 sec; Peak RSS: 2.740 GB\n"
     ]
    },
    {
     "name": "stdout",
     "output_type": "stream",
     "text": [
      "lifting features\n",
      "polishing annotations\n"
     ]
    },
    {
     "name": "stderr",
     "output_type": "stream",
     "text": [
      "\n",
      "real\t0m47.863s\n",
      "user\t2m43.100s\n",
      "sys\t0m10.608s\n"
     ]
    }
   ],
   "source": [
    "%%bash\n",
    "# run first pass of liftoff\n",
    "time liftoff -p 24 \\\n",
    "  -g sample_inputs/rRNA_only.with_root.gff -o /home/rhuang38/Ash1_Refseq/rRNA_only.gff \\\n",
    "  -f sample_inputs/rRNA_types.txt \\\n",
    "  -u /home/rhuang38/Ash1_Refseq/unmapped_rRNAs.txt -chroms sample_inputs/rRNA_chroms.csv -polish -exclude_partial -copies \\\n",
    "  -sc 0.95 sample_inputs/Ash1.for_pass1.fna sample_inputs/CHM13_canonical.fna"
   ]
  },
  {
   "cell_type": "code",
   "execution_count": 9,
   "metadata": {},
   "outputs": [
    {
     "data": {
      "image/png": "[encoded data removed]",
      "text/plain": [
       "<Figure size 1000x600 with 1 Axes>"
      ]
     },
     "metadata": {},
     "output_type": "display_data"
    }
   ],
   "source": [
    "# graph the rRNA liftover result\n",
    "import matplotlib.pyplot as plt\n",
    "import numpy as np\n",
    "\n",
    "# Data\n",
    "chromosomes = ['chr1', 'chr13', 'chr14', 'chr15', 'chr21', 'chr22']\n",
    "chm13 = [107, 227, 48, 147, 165, 59]\n",
    "ash1_no_root = [120, 140, 43, 91, 139, 53]\n",
    "ash1_with_root = [120, 200, 52, 151, 171, 64]\n",
    "\n",
    "# Bar width and x-axis positions\n",
    "bar_width = 0.25\n",
    "x = np.arange(len(chromosomes))\n",
    "\n",
    "# Plotting\n",
    "fig, ax = plt.subplots(figsize=(10, 6))\n",
    "ax.bar(x - bar_width, chm13, width=bar_width, label='CHM13', color='#4A8DDC')\n",
    "ax.bar(x, ash1_no_root, width=bar_width, label='Ash1 (No Triplet Grouping)', color='#4C5D8A')\n",
    "ax.bar(x + bar_width, ash1_with_root, width=bar_width, label='Ash1 (With Triplet Grouping)', color='#71AFE2')\n",
    "\n",
    "# Labels and Title\n",
    "ax.set_xlabel('Chromosomes', fontsize=14)\n",
    "ax.set_ylabel('Number of Genes Mapped', fontsize=14)\n",
    "ax.set_title('Lifting over rDNA arrays from T2T-CHM13 to Ash1', fontsize=16)\n",
    "ax.set_xticks(x)\n",
    "ax.set_xticklabels(chromosomes)\n",
    "ax.legend()\n",
    "\n",
    "# Display the graph\n",
    "# 22 unmapped units\n",
    "plt.tight_layout()\n",
    "plt.show()"
   ]
  },
  {
   "cell_type": "code",
   "execution_count": 11,
   "metadata": {
    "vscode": {
     "languageId": "shellscript"
    }
   },
   "outputs": [],
   "source": [
    "%%bash\n",
    "# maskedAsh1 rDNA regions\n",
    "source /ccb/sw/global.bashrc\n",
    "bedtools maskfasta -fi sample_inputs/Ash1.fna_VDJ_masked.fna \\\n",
    "  -bed /home/rhuang38/Ash1_Refseq/rRNA_only.gff_polished \\\n",
    "  -fo sample_inputs/Ash1.fna_VDJ_rDNA_masked.fna"
   ]
  },
  {
   "cell_type": "code",
   "execution_count": null,
   "metadata": {
    "vscode": {
     "languageId": "shellscript"
    }
   },
   "outputs": [],
   "source": [
    "%%bash\n",
    "# run second pass of liftoff\n",
    "time liftoff -p 40 -db sample_inputs/final.gff_db \\\n",
    "  -o /home/rhuang38/Ash1_Refseq/second_pass.gff -f sample_inputs/types.txt \\\n",
    "  -u /home/rhuang38/Ash1_Refseq/unmapped_features.txt -chroms sample_inputs/canonical_chroms.txt \\\n",
    "  -polish -exclude_partial -copies -sc 0.95 sample_inputs/Ash1.fna_VDJ_rDNA_masked.fna sample_inputs/final.fna"
   ]
  },
  {
   "cell_type": "code",
   "execution_count": null,
   "metadata": {
    "vscode": {
     "languageId": "shellscript"
    }
   },
   "outputs": [],
   "source": [
    "%%bash\n",
    "# merge and sort the final files\n",
    "gffread -F --keep-genes -sort-alpha rRNA_only.gff_polished > rRNA_only.sorted.gff\n",
    "cat rRNA_only.sorted.gff second_pass.gff_polished > Ash1.gff\n",
    "gffread -F --keep-genes -sort-alpha Ash1.gff > result/Ash1_refseq.gff\n",
    "\n",
    "cat unmapped_rRNAs.txt unmapped_features.txt > result/Ash1_unmapped_features.gff"
   ]
  }
 ],
 "metadata": {
  "kernelspec": {
   "display_name": "base",
   "language": "python",
   "name": "python3"
  },
  "language_info": {
   "codemirror_mode": {
    "name": "ipython",
    "version": 3
   },
   "file_extension": ".py",
   "mimetype": "text/x-python",
   "name": "python",
   "nbconvert_exporter": "python",
   "pygments_lexer": "ipython3",
   "version": "3.11.7"
  }
 },
 "nbformat": 4,
 "nbformat_minor": 2
}
